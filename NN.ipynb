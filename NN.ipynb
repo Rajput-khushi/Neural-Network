{
 "cells": [
  {
   "cell_type": "code",
   "execution_count": 1,
   "id": "ca06652c",
   "metadata": {},
   "outputs": [
    {
     "name": "stdout",
     "output_type": "stream",
     "text": [
      "Enter first number between 0 and 1: .8\n",
      "Enter second number between 0 and 1: .2\n",
      "Perceptron classification: 0\n"
     ]
    }
   ],
   "source": [
    "import numpy as np\n",
    "# Step function (activation function)\n",
    "def step_function(x, Y):\n",
    "    return 1 if (x >= 0.5 and Y > 0.5) else 0\n",
    "\n",
    "# Perceptron class\n",
    "class Perceptron:\n",
    "    def __init__(self, learning_rate=0.01, epochs=100):\n",
    "        # Initialize weight and bias\n",
    "        self.weight = np.random.rand()  # Single weight for 1D output\n",
    "        self.bias = np.random.rand()     # Initialize bias randomly\n",
    "        self.learning_rate = learning_rate\n",
    "        self.epochs = epochs\n",
    "\n",
    "    # Predict output for a given input\n",
    "    def predict(self, x):\n",
    "        linear_output = x[0] * self.weight + x[1] * self.weight + self.bias\n",
    "        return step_function(linear_output, linear_output)\n",
    "\n",
    "    # Train the perceptron\n",
    "    def train(self, X, y):\n",
    "        for epoch in range(self.epochs):\n",
    "            for i in range(len(X)):\n",
    "                prediction = self.predict(X[i])\n",
    "                error = y[i] - prediction\n",
    "                # Update weight and bias\n",
    "                self.weight += self.learning_rate * error * X[i][0]\n",
    "                self.bias += self.learning_rate * error\n",
    "\n",
    "# Training data (classification of number) (<0.5 and <0.5 as 0, >0.5 and >0.5 as 1, <0.5 and >0.5 as 0, >0.5 and <0.5 as 0)\n",
    "X = np.array([[0.4, 0.3], [0.6, 0.8], [0.3, 0.9], [0.7, 0.2]])\n",
    "y = np.array([0, 1, 0, 0])  # Corresponding labels\n",
    "\n",
    "# Create and train perceptron\n",
    "perceptron = Perceptron()\n",
    "perceptron.train(X, y)\n",
    "\n",
    "def user_input_classification():\n",
    "    user_input1 = float(input(\"Enter first number between 0 and 1: \"))\n",
    "    user_input2 = float(input(\"Enter second number between 0 and 1: \"))\n",
    "    \n",
    "    if 0 <= user_input1 <= 1 and 0 <= user_input2 <= 1:\n",
    "        prediction = perceptron.predict(np.array([user_input1, user_input2]))\n",
    "        print(f\"Perceptron classification: {prediction}\")\n",
    "    else:\n",
    "        print(\"Please enter numbers between 0 and 1.\")\n",
    "\n",
    "user_input_classification()"
   ]
  },
  {
   "cell_type": "code",
   "execution_count": null,
   "id": "96b7a39b",
   "metadata": {},
   "outputs": [],
   "source": []
  }
 ],
 "metadata": {
  "kernelspec": {
   "display_name": "Python 3 (ipykernel)",
   "language": "python",
   "name": "python3"
  },
  "language_info": {
   "codemirror_mode": {
    "name": "ipython",
    "version": 3
   },
   "file_extension": ".py",
   "mimetype": "text/x-python",
   "name": "python",
   "nbconvert_exporter": "python",
   "pygments_lexer": "ipython3",
   "version": "3.11.5"
  }
 },
 "nbformat": 4,
 "nbformat_minor": 5
}
